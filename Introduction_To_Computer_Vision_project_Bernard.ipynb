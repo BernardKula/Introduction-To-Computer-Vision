{
  "nbformat": 4,
  "nbformat_minor": 0,
  "metadata": {
    "colab": {
      "name": "Introduction To Computer Vision project-Bernard.ipynb",
      "provenance": [],
      "authorship_tag": "ABX9TyOFGeIl/uhN4iq4becn3lAA",
      "include_colab_link": true
    },
    "kernelspec": {
      "name": "python3",
      "display_name": "Python 3"
    },
    "language_info": {
      "name": "python"
    }
  },
  "cells": [
    {
      "cell_type": "markdown",
      "metadata": {
        "id": "view-in-github",
        "colab_type": "text"
      },
      "source": [
        "<a href=\"https://colab.research.google.com/github/CoolerKula/Introduction-To-Computer-Vision/blob/main/Introduction_To_Computer_Vision_project_Bernard.ipynb\" target=\"_parent\"><img src=\"https://colab.research.google.com/assets/colab-badge.svg\" alt=\"Open In Colab\"/></a>"
      ]
    },
    {
      "cell_type": "markdown",
      "source": [
        "**Description**\n",
        "\n",
        "The supermarket chain would like to explore whether Data Science can help them adhere to alcohol laws by making sure they do not sell alcohol to people underage. You are asked to conduct that evaluation, so as you set to work, keep the following in mind:\n",
        "\n",
        "● The shops are equipped with cameras in the checkout area which are triggered when a person is buying alcohol.\n",
        "\n",
        "● Computer vision methods can be used to determine the age of a person from a photo.\n",
        "\n",
        "● The task then is to build and evaluate a model for verifying people's age.\n",
        "To start working on the task, you'll have a set of photographs of people with their ages indicated.\n",
        "\n",
        "**Project Instructions**\n",
        "\n",
        "● Before getting your hands dirty with the project, let's think of the Good Seed supermarket task in detail. Imagine your manager wants to check your understanding of the task.\n",
        "Pass this quiz to verify your understanding of the project statement.\n",
        "\n",
        "● Perform exploratory data analysis to get an overall impression of the dataset.\n",
        "\n",
        "● Train and evaluate the model (it needs to be done on the GPU platform).\n",
        "\n",
        "● Combine your code, output, and findings (from the previous points) in the final notebook.\n",
        "\n",
        "● Make conclusions of the model evaluation, add them to the notebook.\n",
        "Data description\n",
        "\n",
        "Download the dataset for this project here [link].\n",
        "\n",
        "As the number of image files is rather high, it is advisable to avoid reading them all at once, which would be resource-consuming, and to read them sequentially with the ImageDataGenerator generator. This method was explained in Data Generators."
      ],
      "metadata": {
        "id": "PW9dBaHlOHKB"
      }
    },
    {
      "cell_type": "code",
      "execution_count": null,
      "metadata": {
        "id": "9KQPe8ZV8BwY"
      },
      "outputs": [],
      "source": [
        ""
      ]
    }
  ]
}